{
 "cells": [
  {
   "cell_type": "code",
   "execution_count": 10,
   "metadata": {},
   "outputs": [],
   "source": [
    "import pandas as pd\n",
    "import numpy as np\n",
    "import matplotlib.pyplot as plt\n",
    "import PIL\n",
    "%matplotlib inline"
   ]
  },
  {
   "cell_type": "code",
   "execution_count": 7,
   "metadata": {},
   "outputs": [],
   "source": [
    "proposals = pd.read_csv('proposals.csv')"
   ]
  },
  {
   "cell_type": "code",
   "execution_count": 37,
   "metadata": {},
   "outputs": [],
   "source": [
    "def invert_image(input_image):\n",
    "    \"\"\"inverts the input image color values. Returns image\n",
    "    of same dim.\"\"\"\n",
    "    if not type(input_image) == type(np.array([0])):\n",
    "        input_image = np.array(input_image)/256\n",
    "    return (input_image - 256) * -1 \n",
    "\n",
    "def normalize_image(input_image):\n",
    "    \"\"\"Takes a PIL image and \"normalizes\" its pixel values;\n",
    "    returns a numpy array of same shape, with min value 0 and\n",
    "    max value 256.\n",
    "    \"\"\"\n",
    "    if not type(input_image) == type(np.array([0])):\n",
    "        array = np.array(input_image)/256\n",
    "    else:\n",
    "        array = input_image/256\n",
    "    min_ = np.min(np.min(array))\n",
    "    array = array - min_\n",
    "    max_ = np.max(np.max(array))\n",
    "    array = array * 1/max_ * 256\n",
    "    return array"
   ]
  },
  {
   "cell_type": "code",
   "execution_count": 74,
   "metadata": {},
   "outputs": [],
   "source": [
    "def get_image(id_number):\n",
    "    \"\"\"Takes id number and returns an image.\"\"\"\n",
    "    path = './tp_images/' + id_number + '.bmp'\n",
    "    try:\n",
    "        img = PIL.Image.open(path)\n",
    "    except:\n",
    "        try:\n",
    "            path = './fp_images/' + id_number + '.bmp'\n",
    "            img = PIL.Image.open(path)\n",
    "        except:\n",
    "            raise('Error: No file associated with ', id_number)\n",
    "    return np.array(img)\n",
    "\n",
    "def remove_ticks(ax_obj):\n",
    "    \"\"\"takes an ax object from matplotlib and removes ticks.\"\"\"\n",
    "    ax_obj.tick_params(\n",
    "        axis='both', \n",
    "        which='both', \n",
    "        bottom='off', \n",
    "        top='off', \n",
    "        labelbottom='off', \n",
    "        right='off', \n",
    "        left='off', \n",
    "        labelleft='off'\n",
    "        )\n",
    "    return ax_obj\n",
    "\n",
    "def show_example(id_number):\n",
    "    \"\"\"Takes example id number and shows it for user inspection.\"\"\"\n",
    "    img = get_image(id_number)\n",
    "    #Plot \"zoomed in\"\n",
    "    fig, ax = plt.subplots(nrows=1, ncols=2)\n",
    "    ax[0].set_title('natural')\n",
    "    ax[0].imshow(img, cmap='Greys')\n",
    "    ax[0] = remove_ticks(ax[0])\n",
    "    ax[1].set_title('inverted')\n",
    "    ax[1].imshow(invert_image(img), cmap='Greys')\n",
    "    ax[1] = remove_ticks(ax[1])\n",
    "    plt.tight_layout()\n",
    "    \n",
    "    #Plot \"actual size\"\n",
    "    fig, ax = plt.subplots(nrows=1, ncols=2, figsize=(2, 28/80))\n",
    "    ax[0].set_title('natural')\n",
    "    ax[0].imshow(img, cmap='Greys')\n",
    "    ax[0] = remove_ticks(ax[0])\n",
    "    ax[1].set_title('inverted')\n",
    "    ax[1].imshow(invert_image(img), cmap='Greys')\n",
    "    ax[1] = remove_ticks(ax[1])\n",
    "    return"
   ]
  },
  {
   "cell_type": "code",
   "execution_count": 75,
   "metadata": {},
   "outputs": [
    {
     "data": {
      "image/png": "[encoded data removed]",
      "text/plain": [
       "<matplotlib.figure.Figure at 0x7fa7ad7b0320>"
      ]
     },
     "metadata": {},
     "output_type": "display_data"
    },
    {
     "data": {
      "image/png": "[encoded data removed]",
      "text/plain": [
       "<matplotlib.figure.Figure at 0x7fa7ad516a58>"
      ]
     },
     "metadata": {},
     "output_type": "display_data"
    }
   ],
   "source": [
    "show_example(proposals['id'].loc[10])"
   ]
  },
  {
   "cell_type": "code",
   "execution_count": 76,
   "metadata": {},
   "outputs": [
    {
     "data": {
      "text/plain": [
       "4910"
      ]
     },
     "execution_count": 76,
     "metadata": {},
     "output_type": "execute_result"
    }
   ],
   "source": [
    "len(proposals)"
   ]
  },
  {
   "cell_type": "code",
   "execution_count": null,
   "metadata": {},
   "outputs": [],
   "source": []
  }
 ],
 "metadata": {
  "kernelspec": {
   "display_name": "Environment (conda_ann)",
   "language": "python",
   "name": "conda_ann"
  },
  "language_info": {
   "codemirror_mode": {
    "name": "ipython",
    "version": 3
   },
   "file_extension": ".py",
   "mimetype": "text/x-python",
   "name": "python",
   "nbconvert_exporter": "python",
   "pygments_lexer": "ipython3",
   "version": "3.5.4"
  }
 },
 "nbformat": 4,
 "nbformat_minor": 2
}
