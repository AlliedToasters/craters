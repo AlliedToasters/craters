{
 "cells": [
  {
   "cell_type": "code",
   "execution_count": 8,
   "metadata": {},
   "outputs": [],
   "source": [
    "import tensorflow as tf\n",
    "import keras\n",
    "from keras import Model\n",
    "from keras.layers import Input, Conv2D, MaxPooling2D, Conv2DTranspose, Concatenate, Cropping2D\n",
    "from build_image_generator import image_data_generator\n",
    "from keras.callbacks import ModelCheckpoint"
   ]
  },
  {
   "cell_type": "code",
   "execution_count": 2,
   "metadata": {},
   "outputs": [],
   "source": [
    "inputs = Input(shape=(256, 256, 1))\n",
    "\n",
    "conv1 = Conv2D(filters = 64, kernel_size=(3, 3), activation='relu')(inputs)\n",
    "conv2 = Conv2D(filters = 64, kernel_size=(3, 3), activation='relu')(conv1)\n",
    "maxp1 = MaxPooling2D(pool_size=(2, 2))(conv2)\n",
    "\n",
    "conv3 = Conv2D(filters = 128, kernel_size=(3, 3), activation='relu')(maxp1)\n",
    "conv4 = Conv2D(filters = 128, kernel_size=(3, 3), activation='relu')(conv3)\n",
    "maxp2 = MaxPooling2D(pool_size=(2, 2))(conv4)\n",
    "\n",
    "conv5 = Conv2D(filters = 256, kernel_size=(3, 3), activation='relu')(maxp2)\n",
    "conv6 = Conv2D(filters = 256, kernel_size=(2, 2), activation='relu')(conv5)\n",
    "maxp3 = MaxPooling2D(pool_size=(2, 2))(conv6)\n",
    "\n",
    "\n",
    "conv7 = Conv2D(filters = 512, kernel_size=(3, 3), activation='relu')(maxp3)\n",
    "conv8 = Conv2D(filters = 512, kernel_size=(3, 3), activation='relu')(conv7)\n",
    "\n",
    "up1 = Conv2DTranspose(filters = 256, kernel_size=(2, 2), strides=(2,2))(conv8)\n",
    "crop1 = Cropping2D(cropping=(4,4))(conv6)\n",
    "concat1 = Concatenate(axis=-1)([crop1, up1])\n",
    "conv9 = Conv2D(filters = 256, kernel_size=(3, 3), activation='relu')(concat1)\n",
    "conv10 = Conv2D(filters = 256, kernel_size=(3, 3), activation='relu')(conv9)\n",
    "\n",
    "up2 = Conv2DTranspose(filters = 128, kernel_size=(2, 2), strides=(2,2))(conv10)\n",
    "crop2 = Cropping2D(cropping=(15,15))(conv4)\n",
    "concat2 = Concatenate(axis=-1)([crop2, up2])\n",
    "conv11 = Conv2D(filters = 128, kernel_size=(3, 3), activation='relu')(concat2)\n",
    "conv12 = Conv2D(filters = 128, kernel_size=(3, 3), activation='relu')(conv11)\n",
    "\n",
    "up3 = Conv2DTranspose(filters = 64, kernel_size=(2, 2), strides=(2,2))(conv12)\n",
    "crop3 = Cropping2D(cropping=(38,38))(conv2)\n",
    "concat3 = Concatenate(axis=-1)([crop3, up3])\n",
    "conv13 = Conv2D(filters = 64, kernel_size=(3, 3), activation='relu')(concat3)\n",
    "conv14 = Conv2D(filters = 64, kernel_size=(3, 3), activation='relu')(conv13)\n",
    "output = Conv2D(filters = 1, kernel_size=(1, 1), activation='sigmoid')(conv14)"
   ]
  },
  {
   "cell_type": "code",
   "execution_count": 3,
   "metadata": {},
   "outputs": [],
   "source": [
    "unet = Model(inputs=inputs, outputs=output)"
   ]
  },
  {
   "cell_type": "code",
   "execution_count": 4,
   "metadata": {},
   "outputs": [
    {
     "name": "stdout",
     "output_type": "stream",
     "text": [
      "__________________________________________________________________________________________________\n",
      "Layer (type)                    Output Shape         Param #     Connected to                     \n",
      "==================================================================================================\n",
      "input_1 (InputLayer)            (None, 256, 256, 1)  0                                            \n",
      "__________________________________________________________________________________________________\n",
      "conv2d_1 (Conv2D)               (None, 254, 254, 64) 640         input_1[0][0]                    \n",
      "__________________________________________________________________________________________________\n",
      "conv2d_2 (Conv2D)               (None, 252, 252, 64) 36928       conv2d_1[0][0]                   \n",
      "__________________________________________________________________________________________________\n",
      "max_pooling2d_1 (MaxPooling2D)  (None, 126, 126, 64) 0           conv2d_2[0][0]                   \n",
      "__________________________________________________________________________________________________\n",
      "conv2d_3 (Conv2D)               (None, 124, 124, 128 73856       max_pooling2d_1[0][0]            \n",
      "__________________________________________________________________________________________________\n",
      "conv2d_4 (Conv2D)               (None, 122, 122, 128 147584      conv2d_3[0][0]                   \n",
      "__________________________________________________________________________________________________\n",
      "max_pooling2d_2 (MaxPooling2D)  (None, 61, 61, 128)  0           conv2d_4[0][0]                   \n",
      "__________________________________________________________________________________________________\n",
      "conv2d_5 (Conv2D)               (None, 59, 59, 256)  295168      max_pooling2d_2[0][0]            \n",
      "__________________________________________________________________________________________________\n",
      "conv2d_6 (Conv2D)               (None, 58, 58, 256)  262400      conv2d_5[0][0]                   \n",
      "__________________________________________________________________________________________________\n",
      "max_pooling2d_3 (MaxPooling2D)  (None, 29, 29, 256)  0           conv2d_6[0][0]                   \n",
      "__________________________________________________________________________________________________\n",
      "conv2d_7 (Conv2D)               (None, 27, 27, 512)  1180160     max_pooling2d_3[0][0]            \n",
      "__________________________________________________________________________________________________\n",
      "conv2d_8 (Conv2D)               (None, 25, 25, 512)  2359808     conv2d_7[0][0]                   \n",
      "__________________________________________________________________________________________________\n",
      "cropping2d_1 (Cropping2D)       (None, 50, 50, 256)  0           conv2d_6[0][0]                   \n",
      "__________________________________________________________________________________________________\n",
      "conv2d_transpose_1 (Conv2DTrans (None, 50, 50, 256)  524544      conv2d_8[0][0]                   \n",
      "__________________________________________________________________________________________________\n",
      "concatenate_1 (Concatenate)     (None, 50, 50, 512)  0           cropping2d_1[0][0]               \n",
      "                                                                 conv2d_transpose_1[0][0]         \n",
      "__________________________________________________________________________________________________\n",
      "conv2d_9 (Conv2D)               (None, 48, 48, 256)  1179904     concatenate_1[0][0]              \n",
      "__________________________________________________________________________________________________\n",
      "conv2d_10 (Conv2D)              (None, 46, 46, 256)  590080      conv2d_9[0][0]                   \n",
      "__________________________________________________________________________________________________\n",
      "cropping2d_2 (Cropping2D)       (None, 92, 92, 128)  0           conv2d_4[0][0]                   \n",
      "__________________________________________________________________________________________________\n",
      "conv2d_transpose_2 (Conv2DTrans (None, 92, 92, 128)  131200      conv2d_10[0][0]                  \n",
      "__________________________________________________________________________________________________\n",
      "concatenate_2 (Concatenate)     (None, 92, 92, 256)  0           cropping2d_2[0][0]               \n",
      "                                                                 conv2d_transpose_2[0][0]         \n",
      "__________________________________________________________________________________________________\n",
      "conv2d_11 (Conv2D)              (None, 90, 90, 128)  295040      concatenate_2[0][0]              \n",
      "__________________________________________________________________________________________________\n",
      "conv2d_12 (Conv2D)              (None, 88, 88, 128)  147584      conv2d_11[0][0]                  \n",
      "__________________________________________________________________________________________________\n",
      "cropping2d_3 (Cropping2D)       (None, 176, 176, 64) 0           conv2d_2[0][0]                   \n",
      "__________________________________________________________________________________________________\n",
      "conv2d_transpose_3 (Conv2DTrans (None, 176, 176, 64) 32832       conv2d_12[0][0]                  \n",
      "__________________________________________________________________________________________________\n",
      "concatenate_3 (Concatenate)     (None, 176, 176, 128 0           cropping2d_3[0][0]               \n",
      "                                                                 conv2d_transpose_3[0][0]         \n",
      "__________________________________________________________________________________________________\n",
      "conv2d_13 (Conv2D)              (None, 174, 174, 64) 73792       concatenate_3[0][0]              \n",
      "__________________________________________________________________________________________________\n",
      "conv2d_14 (Conv2D)              (None, 172, 172, 64) 36928       conv2d_13[0][0]                  \n",
      "__________________________________________________________________________________________________\n",
      "conv2d_15 (Conv2D)              (None, 172, 172, 1)  65          conv2d_14[0][0]                  \n",
      "==================================================================================================\n",
      "Total params: 7,368,513\n",
      "Trainable params: 7,368,513\n",
      "Non-trainable params: 0\n",
      "__________________________________________________________________________________________________\n"
     ]
    }
   ],
   "source": [
    "#print(unet.summary())"
   ]
  },
  {
   "cell_type": "code",
   "execution_count": 5,
   "metadata": {},
   "outputs": [],
   "source": [
    "unet.compile(\n",
    "    optimizer = 'sgd',\n",
    "    loss = 'binary_crossentropy',\n",
    "    metrics = ['accuracy']\n",
    ")"
   ]
  },
  {
   "cell_type": "code",
   "execution_count": 6,
   "metadata": {},
   "outputs": [],
   "source": [
    "batch_size = 4\n",
    "train_gen = image_data_generator(shuffle=True, batch_size=batch_size)\n",
    "val_gen = image_data_generator(train=False, batch_size=batch_size)"
   ]
  },
  {
   "cell_type": "code",
   "execution_count": null,
   "metadata": {},
   "outputs": [],
   "source": [
    "checkpointer = ModelCheckpoint('./models/unet_first_model.hdf5', save_best_only=True, verbose=True)"
   ]
  },
  {
   "cell_type": "code",
   "execution_count": 7,
   "metadata": {},
   "outputs": [
    {
     "name": "stdout",
     "output_type": "stream",
     "text": [
      "Epoch 1/1\n",
      "10/10 [==============================] - 100s 10s/step - loss: 0.6541 - acc: 0.9348 - val_loss: 0.5987 - val_acc: 0.9802\n"
     ]
    }
   ],
   "source": [
    "history = unet.fit_generator(\n",
    "    train_gen,\n",
    "    steps_per_epoch=10,\n",
    "    epochs=1,\n",
    "    verbose=True,\n",
    "    validation_data=val_gen,\n",
    "    validation_steps=10\n",
    ")"
   ]
  },
  {
   "cell_type": "code",
   "execution_count": null,
   "metadata": {},
   "outputs": [],
   "source": []
  }
 ],
 "metadata": {
  "kernelspec": {
   "display_name": "Environment (conda_ann)",
   "language": "python",
   "name": "conda_ann"
  },
  "language_info": {
   "codemirror_mode": {
    "name": "ipython",
    "version": 3
   },
   "file_extension": ".py",
   "mimetype": "text/x-python",
   "name": "python",
   "nbconvert_exporter": "python",
   "pygments_lexer": "ipython3",
   "version": "3.5.4"
  }
 },
 "nbformat": 4,
 "nbformat_minor": 2
}
