{
 "cells": [
  {
   "cell_type": "code",
   "execution_count": 1,
   "metadata": {},
   "outputs": [],
   "source": [
    "import numpy as np\n",
    "from PIL import Image\n",
    "import os\n",
    "from random import choice\n",
    "import matplotlib.pyplot as plt\n",
    "from generate_masks import pad_mask"
   ]
  },
  {
   "cell_type": "code",
   "execution_count": 42,
   "metadata": {},
   "outputs": [],
   "source": [
    "base_path = './tiles/keras_folders/'\n",
    "\n",
    "def image_data_generator(path=base_path, train=True, batch_size=10, shuffle=False):\n",
    "    \"\"\"Custom image data generator for this problem.\"\"\"\n",
    "    if train:\n",
    "        path += 'train/'\n",
    "    else:\n",
    "        path += 'test/'\n",
    "    filenames = [x[:-4] for x in os.listdir(path)]\n",
    "    ind = 0\n",
    "    while True:\n",
    "        x, y = [], []\n",
    "        while len(x) < batch_size:\n",
    "            if ind == len(filenames):\n",
    "                ind = 0\n",
    "            if shuffle:\n",
    "                id_no = choice(filenames)\n",
    "            else:\n",
    "                id_no = filenames[ind]\n",
    "            x_array = np.array(Image.open(path+'{}.bmp'.format(id_no)))/255\n",
    "            x.append(np.expand_dims(x_array, axis=-1))\n",
    "            y_array = np.array(Image.open(path[:-1]+'_mask/{}_mask.bmp'.format(id_no)))/255\n",
    "            y.append(np.expand_dims(y_array, axis=-1))\n",
    "            ind += 1\n",
    "        x = np.array(x)\n",
    "        y = np.array(y)\n",
    "        yield x, y\n",
    "    "
   ]
  },
  {
   "cell_type": "code",
   "execution_count": 63,
   "metadata": {},
   "outputs": [],
   "source": [
    "if __name__ == '__main__':\n",
    "    gen = image_data_generator(shuffle=False, train=False)\n",
    "    x1, y1 = next(gen)\n",
    "    fig, ax = plt.subplots()\n",
    "    ax.imshow(x1[7,:,:,0], cmap='Greys');\n",
    "    ax.imshow(pad_mask(y1[7,:,:,0]), alpha=.2);"
   ]
  }
 ],
 "metadata": {
  "kernelspec": {
   "display_name": "Python 3",
   "language": "python",
   "name": "python3"
  },
  "language_info": {
   "codemirror_mode": {
    "name": "ipython",
    "version": 3
   },
   "file_extension": ".py",
   "mimetype": "text/x-python",
   "name": "python",
   "nbconvert_exporter": "python",
   "pygments_lexer": "ipython3",
   "version": "3.6.4"
  }
 },
 "nbformat": 4,
 "nbformat_minor": 2
}
