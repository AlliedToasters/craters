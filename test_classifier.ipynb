{
 "cells": [
  {
   "cell_type": "code",
   "execution_count": 1,
   "metadata": {},
   "outputs": [
    {
     "name": "stderr",
     "output_type": "stream",
     "text": [
      "/home/alliedtoasters/anaconda3/envs/ann/lib/python3.5/site-packages/h5py/__init__.py:36: FutureWarning: Conversion of the second argument of issubdtype from `float` to `np.floating` is deprecated. In future, it will be treated as `np.float64 == np.dtype(float).type`.\n",
      "  from ._conv import register_converters as _register_converters\n",
      "Using TensorFlow backend.\n"
     ]
    }
   ],
   "source": [
    "import pandas as pd\n",
    "import numpy as np\n",
    "import tensorflow as tf\n",
    "import keras\n",
    "from keras import models\n",
    "from test_human import get_image\n",
    "import matplotlib.pyplot as plt\n",
    "from sklearn import metrics"
   ]
  },
  {
   "cell_type": "code",
   "execution_count": 2,
   "metadata": {},
   "outputs": [],
   "source": [
    "data = pd.read_csv('proposals.csv')"
   ]
  },
  {
   "cell_type": "code",
   "execution_count": 3,
   "metadata": {},
   "outputs": [],
   "source": [
    "test = data[data.tile.isin(['1_24', '2_24', '3_24'])].copy()\n",
    "train = data[data.tile.isin(['1_25', '2_25', '3_25'])].copy()"
   ]
  },
  {
   "cell_type": "code",
   "execution_count": 23,
   "metadata": {},
   "outputs": [
    {
     "name": "stdout",
     "output_type": "stream",
     "text": [
      "0\n",
      "200\n",
      "800\n",
      "1100\n",
      "1300\n",
      "1700\n",
      "1800\n",
      "2200\n",
      "2300\n",
      "2400\n",
      "2600\n",
      "2700\n",
      "2900\n",
      "3100\n",
      "3200\n",
      "3600\n",
      "3700\n",
      "3800\n",
      "4300\n",
      "4400\n",
      "4500\n",
      "4600\n",
      "4700\n",
      "f1 score for non-pretrained model:  0.859004739336493\n"
     ]
    }
   ],
   "source": [
    "model = models.load_model('./models/classifier1.hdf5')\n",
    "test['prediction'] = 0\n",
    "for i, crater in test.iterrows():\n",
    "    img = get_image(crater['id'])/255\n",
    "    img1 = np.expand_dims(np.array(img), axis=2)\n",
    "    #img2 = np.array([np.array(get_image(test.iloc[i+1]['id']))],)\n",
    "    #img = np.concatenate([img1, img2], axis=2)\n",
    "    #plt.imshow(img, cmap='Greys')\n",
    "    prediction = model.predict(np.array([img1,]))[0][0]\n",
    "    test.at[i, 'prediction'] = round(prediction)\n",
    "    #print(prediction)\n",
    "    if i%100==0:\n",
    "        print(i)\n",
    "f1 = metrics.f1_score(test.crater, test.prediction)\n",
    "print('f1 score for non-pretrained model: ', f1)"
   ]
  },
  {
   "cell_type": "code",
   "execution_count": 20,
   "metadata": {},
   "outputs": [
    {
     "data": {
      "text/html": [
       "<div>\n",
       "<style scoped>\n",
       "    .dataframe tbody tr th:only-of-type {\n",
       "        vertical-align: middle;\n",
       "    }\n",
       "\n",
       "    .dataframe tbody tr th {\n",
       "        vertical-align: top;\n",
       "    }\n",
       "\n",
       "    .dataframe thead th {\n",
       "        text-align: right;\n",
       "    }\n",
       "</style>\n",
       "<table border=\"1\" class=\"dataframe\">\n",
       "  <thead>\n",
       "    <tr style=\"text-align: right;\">\n",
       "      <th>prediction</th>\n",
       "      <th>0</th>\n",
       "      <th>1</th>\n",
       "    </tr>\n",
       "    <tr>\n",
       "      <th>crater</th>\n",
       "      <th></th>\n",
       "      <th></th>\n",
       "    </tr>\n",
       "  </thead>\n",
       "  <tbody>\n",
       "    <tr>\n",
       "      <th>0</th>\n",
       "      <td>1197</td>\n",
       "      <td>70</td>\n",
       "    </tr>\n",
       "    <tr>\n",
       "      <th>1</th>\n",
       "      <td>168</td>\n",
       "      <td>725</td>\n",
       "    </tr>\n",
       "  </tbody>\n",
       "</table>\n",
       "</div>"
      ],
      "text/plain": [
       "prediction     0    1\n",
       "crater               \n",
       "0           1197   70\n",
       "1            168  725"
      ]
     },
     "execution_count": 20,
     "metadata": {},
     "output_type": "execute_result"
    }
   ],
   "source": [
    "pd.crosstab(test.crater, test.prediction)"
   ]
  },
  {
   "cell_type": "code",
   "execution_count": 21,
   "metadata": {},
   "outputs": [
    {
     "name": "stdout",
     "output_type": "stream",
     "text": [
      "0\n",
      "200\n",
      "800\n",
      "1100\n",
      "1300\n",
      "1700\n",
      "1800\n",
      "2200\n",
      "2300\n",
      "2400\n",
      "2600\n",
      "2700\n",
      "2900\n",
      "3100\n",
      "3200\n",
      "3600\n",
      "3700\n",
      "3800\n",
      "4300\n",
      "4400\n",
      "4500\n",
      "4600\n",
      "4700\n",
      "f1 score for pretrained model:  0.8412017167381974\n"
     ]
    }
   ],
   "source": [
    "model = models.load_model('./models/pretrained_classifier1.hdf5')\n",
    "test['prediction'] = 0\n",
    "for i, crater in test.iterrows():\n",
    "    img = get_image(crater['id'])/255\n",
    "    img1 = np.expand_dims(np.array(img), axis=2)\n",
    "    #img2 = np.array([np.array(get_image(test.iloc[i+1]['id']))],)\n",
    "    #img = np.concatenate([img1, img2], axis=2)\n",
    "    #plt.imshow(img, cmap='Greys')\n",
    "    prediction = model.predict(np.array([img1,]))[0][0]\n",
    "    test.at[i, 'prediction'] = round(prediction)\n",
    "    #print(prediction)\n",
    "    if i%100==0:\n",
    "        print(i)\n",
    "        \n",
    "f1 = metrics.f1_score(test.crater, test.prediction)\n",
    "print('f1 score for pretrained model: ', f1)"
   ]
  },
  {
   "cell_type": "code",
   "execution_count": null,
   "metadata": {},
   "outputs": [],
   "source": []
  }
 ],
 "metadata": {
  "kernelspec": {
   "display_name": "Environment (conda_ann)",
   "language": "python",
   "name": "conda_ann"
  },
  "language_info": {
   "codemirror_mode": {
    "name": "ipython",
    "version": 3
   },
   "file_extension": ".py",
   "mimetype": "text/x-python",
   "name": "python",
   "nbconvert_exporter": "python",
   "pygments_lexer": "ipython3",
   "version": "3.5.4"
  }
 },
 "nbformat": 4,
 "nbformat_minor": 2
}
